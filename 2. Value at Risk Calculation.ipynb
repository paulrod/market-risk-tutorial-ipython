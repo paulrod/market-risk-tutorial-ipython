{
 "metadata": {
  "name": "",
  "signature": "sha256:1837689b151bbaf51ef88bd885ff573553a739030cf4b0899f407cb8657cc534"
 },
 "nbformat": 3,
 "nbformat_minor": 0,
 "worksheets": [
  {
   "cells": [
    {
     "cell_type": "code",
     "collapsed": false,
     "input": [
      "import pandas as pd\n",
      "import pandas.io.data as web\n",
      "import numpy as np\n",
      "import datetime\n"
     ],
     "language": "python",
     "metadata": {},
     "outputs": [],
     "prompt_number": 1
    },
    {
     "cell_type": "markdown",
     "metadata": {},
     "source": [
      "Picking some specific ETF to calculate VaR for\n",
      "IWM - Russell 2000, important US small index\n",
      "SPY - S&P500, iShares\n",
      "'GOOG/NYSE_ACWX' # MSCI ACWI ex-US ETF\n",
      "\n",
      "IWV - Broad based US stocks - Russell 3000\n",
      "IEF - iShares 7-10yr gov't bonds\n",
      "TLT - IShares 20yr US gov't bonds\n",
      "BND - Vanguard total IG bond market ETF (no intl or TIPS)\n",
      "\n",
      "USO - WTI Oil, US Commodities Fund"
     ]
    },
    {
     "cell_type": "code",
     "collapsed": false,
     "input": [
      "tickers = ['SPY','IWM','BND','USO']"
     ],
     "language": "python",
     "metadata": {},
     "outputs": [],
     "prompt_number": 35
    },
    {
     "cell_type": "code",
     "collapsed": false,
     "input": [
      "# Get the adjusted closes prices\n",
      "px_last = web.DataReader(tickers, data_source='yahoo', start='2014-01-01')['Adj Close']\n",
      "px_last = px_last.reindex_axis(tickers,axis=1) # put back in order\n",
      "px_last.head()"
     ],
     "language": "python",
     "metadata": {},
     "outputs": [
      {
       "html": [
        "<div style=\"max-height:1000px;max-width:1500px;overflow:auto;\">\n",
        "<table border=\"1\" class=\"dataframe\">\n",
        "  <thead>\n",
        "    <tr style=\"text-align: right;\">\n",
        "      <th></th>\n",
        "      <th>SPY</th>\n",
        "      <th>IWM</th>\n",
        "      <th>BND</th>\n",
        "      <th>USO</th>\n",
        "    </tr>\n",
        "    <tr>\n",
        "      <th>Date</th>\n",
        "      <th></th>\n",
        "      <th></th>\n",
        "      <th></th>\n",
        "      <th></th>\n",
        "    </tr>\n",
        "  </thead>\n",
        "  <tbody>\n",
        "    <tr>\n",
        "      <th>2014-01-02</th>\n",
        "      <td> 179.41</td>\n",
        "      <td> 112.65</td>\n",
        "      <td> 77.91</td>\n",
        "      <td> 34.23</td>\n",
        "    </tr>\n",
        "    <tr>\n",
        "      <th>2014-01-03</th>\n",
        "      <td> 179.38</td>\n",
        "      <td> 113.22</td>\n",
        "      <td> 77.92</td>\n",
        "      <td> 33.75</td>\n",
        "    </tr>\n",
        "    <tr>\n",
        "      <th>2014-01-06</th>\n",
        "      <td> 178.86</td>\n",
        "      <td> 112.30</td>\n",
        "      <td> 77.99</td>\n",
        "      <td> 33.57</td>\n",
        "    </tr>\n",
        "    <tr>\n",
        "      <th>2014-01-07</th>\n",
        "      <td> 179.96</td>\n",
        "      <td> 113.24</td>\n",
        "      <td> 78.09</td>\n",
        "      <td> 33.58</td>\n",
        "    </tr>\n",
        "    <tr>\n",
        "      <th>2014-01-08</th>\n",
        "      <td> 180.00</td>\n",
        "      <td> 113.39</td>\n",
        "      <td> 77.83</td>\n",
        "      <td> 33.16</td>\n",
        "    </tr>\n",
        "  </tbody>\n",
        "</table>\n",
        "</div>"
       ],
       "metadata": {},
       "output_type": "pyout",
       "prompt_number": 58,
       "text": [
        "               SPY     IWM    BND    USO\n",
        "Date                                    \n",
        "2014-01-02  179.41  112.65  77.91  34.23\n",
        "2014-01-03  179.38  113.22  77.92  33.75\n",
        "2014-01-06  178.86  112.30  77.99  33.57\n",
        "2014-01-07  179.96  113.24  78.09  33.58\n",
        "2014-01-08  180.00  113.39  77.83  33.16"
       ]
      }
     ],
     "prompt_number": 58
    },
    {
     "cell_type": "markdown",
     "metadata": {},
     "source": [
      "To Consider:\n",
      "Are prices inclusive of corporate actions? Dividends?\n",
      "Swap out the S&P500 for a future and an option to illustrate different asset classes \n"
     ]
    },
    {
     "cell_type": "code",
     "collapsed": false,
     "input": [
      "simple_rtns = px_last.pct_change() # simple returns"
     ],
     "language": "python",
     "metadata": {},
     "outputs": [],
     "prompt_number": 59
    },
    {
     "cell_type": "markdown",
     "metadata": {},
     "source": [
      "To get a feel for the portfolio we use the built in Pandas correlation.\n",
      "\n",
      "The bond ETF is megatively correlated with equity ETFs IWM and SPY, which are correlated with each other. USD has a low correlation with both bonds and equities."
     ]
    },
    {
     "cell_type": "code",
     "collapsed": false,
     "input": [
      "simple_rtns.corr()"
     ],
     "language": "python",
     "metadata": {},
     "outputs": [
      {
       "html": [
        "<div style=\"max-height:1000px;max-width:1500px;overflow:auto;\">\n",
        "<table border=\"1\" class=\"dataframe\">\n",
        "  <thead>\n",
        "    <tr style=\"text-align: right;\">\n",
        "      <th></th>\n",
        "      <th>SPY</th>\n",
        "      <th>IWM</th>\n",
        "      <th>BND</th>\n",
        "      <th>USO</th>\n",
        "    </tr>\n",
        "  </thead>\n",
        "  <tbody>\n",
        "    <tr>\n",
        "      <th>SPY</th>\n",
        "      <td> 1.000000</td>\n",
        "      <td> 0.841213</td>\n",
        "      <td>-0.409685</td>\n",
        "      <td> 0.211240</td>\n",
        "    </tr>\n",
        "    <tr>\n",
        "      <th>IWM</th>\n",
        "      <td> 0.841213</td>\n",
        "      <td> 1.000000</td>\n",
        "      <td>-0.354881</td>\n",
        "      <td> 0.199405</td>\n",
        "    </tr>\n",
        "    <tr>\n",
        "      <th>BND</th>\n",
        "      <td>-0.409685</td>\n",
        "      <td>-0.354881</td>\n",
        "      <td> 1.000000</td>\n",
        "      <td>-0.109630</td>\n",
        "    </tr>\n",
        "    <tr>\n",
        "      <th>USO</th>\n",
        "      <td> 0.211240</td>\n",
        "      <td> 0.199405</td>\n",
        "      <td>-0.109630</td>\n",
        "      <td> 1.000000</td>\n",
        "    </tr>\n",
        "  </tbody>\n",
        "</table>\n",
        "</div>"
       ],
       "metadata": {},
       "output_type": "pyout",
       "prompt_number": 60,
       "text": [
        "          SPY       IWM       BND       USO\n",
        "SPY  1.000000  0.841213 -0.409685  0.211240\n",
        "IWM  0.841213  1.000000 -0.354881  0.199405\n",
        "BND -0.409685 -0.354881  1.000000 -0.109630\n",
        "USO  0.211240  0.199405 -0.109630  1.000000"
       ]
      }
     ],
     "prompt_number": 60
    },
    {
     "cell_type": "code",
     "collapsed": false,
     "input": [
      "cov_matrix = simple_rtns.cov() # Pandas built in covariance, excludes N/As "
     ],
     "language": "python",
     "metadata": {},
     "outputs": [],
     "prompt_number": 64
    },
    {
     "cell_type": "code",
     "collapsed": false,
     "input": [
      "# Example 1mm USD portfolio 55% equities, 35% bonds, 10% commodities\n",
      "nav = 1000000\n",
      "dollars = pd.Series([nav*.275, nav*.275,nav*.35,nav*.1], tickers)\n",
      "print dollars"
     ],
     "language": "python",
     "metadata": {},
     "outputs": [
      {
       "output_type": "stream",
       "stream": "stdout",
       "text": [
        "SPY    275000\n",
        "IWM    275000\n",
        "BND    350000\n",
        "USO    100000\n",
        "dtype: float64\n"
       ]
      }
     ],
     "prompt_number": 62
    },
    {
     "cell_type": "code",
     "collapsed": false,
     "input": [
      "# In vector/matrix notation\n",
      "E = cov_matrix.values\n",
      "x = dollars.values.reshape(-1,1)\n",
      "\n",
      "print E\n",
      "print x"
     ],
     "language": "python",
     "metadata": {},
     "outputs": [
      {
       "output_type": "stream",
       "stream": "stdout",
       "text": [
        "[[  5.51458914e-05   6.45806374e-05  -5.50909009e-06   2.75667995e-05]\n",
        " [  6.45806374e-05   1.06875742e-04  -6.64347007e-06   3.62266799e-05]\n",
        " [ -5.50909009e-06  -6.64347007e-06   3.27903476e-06  -3.48865731e-06]\n",
        " [  2.75667995e-05   3.62266799e-05  -3.48865731e-06   3.08821743e-04]]\n",
        "[[ 275000.]\n",
        " [ 275000.]\n",
        " [ 350000.]\n",
        " [ 100000.]]\n"
       ]
      }
     ],
     "prompt_number": 72
    },
    {
     "cell_type": "code",
     "collapsed": false,
     "input": [
      "# The quadratic form is then x'Ex\n",
      "vol_port = np.sqrt(x.T.dot(E).dot(x))"
     ],
     "language": "python",
     "metadata": {},
     "outputs": [],
     "prompt_number": 83
    },
    {
     "cell_type": "code",
     "collapsed": false,
     "input": [
      "vol_port/nav # portfolio volatility of 50bps"
     ],
     "language": "python",
     "metadata": {},
     "outputs": [
      {
       "metadata": {},
       "output_type": "pyout",
       "prompt_number": 85,
       "text": [
        "array([[ 0.00514156]])"
       ]
      }
     ],
     "prompt_number": 85
    },
    {
     "cell_type": "code",
     "collapsed": false,
     "input": [
      "# VaR \n",
      "\n"
     ],
     "language": "python",
     "metadata": {},
     "outputs": [],
     "prompt_number": 1
    },
    {
     "cell_type": "markdown",
     "metadata": {},
     "source": [
      "The estimate of the multi-variate normal distribution variance from the historical returns is the max-likelyhood estimate.\n",
      "\n",
      "However, empirical evidence shows that variance is non-constant in financial time-series. \n",
      "\n",
      "One way to deal with this is by applying exponential weights to the more recent returns. This is a fast-moving estimate "
     ]
    },
    {
     "cell_type": "markdown",
     "metadata": {},
     "source": [
      "Topics:\n",
      "Leverage\n",
      "Marginal VaR\n",
      "CVaR\n",
      "exploring the covariance matrix and instability"
     ]
    },
    {
     "cell_type": "code",
     "collapsed": false,
     "input": [],
     "language": "python",
     "metadata": {},
     "outputs": []
    }
   ],
   "metadata": {}
  }
 ]
}